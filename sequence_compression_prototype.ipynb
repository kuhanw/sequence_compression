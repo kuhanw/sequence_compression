{
 "cells": [
  {
   "cell_type": "code",
   "execution_count": 33,
   "metadata": {},
   "outputs": [],
   "source": [
    "import random\n",
    "import tensorflow as tf\n",
    "import numpy as np\n",
    "import pandas as pd\n",
    "\n",
    "import matplotlib.pyplot as plt\n",
    "\n",
    "from sklearn import model_selection"
   ]
  },
  {
   "cell_type": "code",
   "execution_count": 2,
   "metadata": {},
   "outputs": [],
   "source": [
    "def createLSTMLayers(n_layers, n_cells, dropout):\n",
    "    cell_list = []\n",
    "    \n",
    "    for layer in range(n_layers):\n",
    "        cell = tf.contrib.rnn.LayerNormBasicLSTMCell(n_cells, activation=tf.nn.relu, layer_norm=False)\n",
    "        \n",
    "        cell_list.append(cell)\n",
    "        \n",
    "    return cell_list"
   ]
  },
  {
   "cell_type": "code",
   "execution_count": 3,
   "metadata": {},
   "outputs": [],
   "source": [
    "def padSeq(seqs, pad_length, right_pad=True):\n",
    "    \n",
    "    '''\n",
    "    padSeq\n",
    "    \n",
    "    Pad sequences to be equal length.\n",
    "    \n",
    "    seqs: sequences to be padded\n",
    "    pad_length: length to pad sequences\n",
    "    left_pad: Pad at the end of the sequences, or reverse pad from front\n",
    "    '''\n",
    "    \n",
    "    padded_seqs = np.zeros((len(seqs), pad_length))\n",
    "    \n",
    "    for idx_row, row in enumerate(seqs):\n",
    "        for idx_col, col in enumerate(row):\n",
    "            if right_pad:\n",
    "                padded_seqs[idx_row, idx_col] = seqs[idx_row][idx_col]\n",
    "            else:\n",
    "                padded_seqs[idx_row, pad_length-idx_col-1] = seqs[idx_row][len(row)-idx_col-1]\n",
    "    return padded_seqs\n",
    "\n",
    "def generatePseudoSequences(seq_length, low, high, n_seqs, variable_length=False):\n",
    "    \n",
    "    '''\n",
    "    generatePseudoSequences\n",
    "    \n",
    "    seq_length: Length of sequence to generate\n",
    "    low: lower bound of values\n",
    "    high: upper bound of values\n",
    "    n_seqs: number of sequences to generate\n",
    "    variable_length: Create sequence of variable length    \n",
    "    '''\n",
    "    \n",
    "    #Generate random sequences\n",
    "    random_seqs = []\n",
    "    for seq in range(n_seqs):\n",
    "        if variable_length: current_length = random.randint(1, seq_length)\n",
    "        else: current_length = seq_length\n",
    "        current_seq = [random.randint(low, high) for _ in range(current_length)]\n",
    "        \n",
    "        random_seqs.append(current_seq)\n",
    "        \n",
    "    return random_seqs"
   ]
  },
  {
   "cell_type": "code",
   "execution_count": 4,
   "metadata": {},
   "outputs": [],
   "source": [
    "tf.reset_default_graph()"
   ]
  },
  {
   "cell_type": "code",
   "execution_count": 5,
   "metadata": {},
   "outputs": [],
   "source": [
    "#Network parameters\n",
    "encoder_layers = 1\n",
    "encoder_cells = 5\n",
    "encoder_dropout = 1\n",
    "\n",
    "decoder_layers = 1\n",
    "decoder_cells = 5\n",
    "decoder_dropout = 1\n",
    "\n",
    "seq_length = 5\n",
    "n_features = 1\n",
    "\n",
    "latent_dimensions = 2\n",
    "\n",
    "#Training Parameters\n",
    "lr = 0.001\n",
    "batch_size = 32"
   ]
  },
  {
   "cell_type": "code",
   "execution_count": 6,
   "metadata": {},
   "outputs": [],
   "source": [
    "inputs = tf.placeholder(name='input', shape=[None, seq_length, n_features], dtype=tf.float32)"
   ]
  },
  {
   "cell_type": "code",
   "execution_count": 8,
   "metadata": {},
   "outputs": [],
   "source": [
    "with tf.Session() as sess:\n",
    "    sess.run(tf.global_variables_initializer())\n",
    "    \n",
    "    q = sess.run([encoder_final_state], {inputs:[[[2.], [2.],[2.], [2.], [2.]]]})"
   ]
  },
  {
   "cell_type": "code",
   "execution_count": 7,
   "metadata": {},
   "outputs": [],
   "source": [
    "#encoder\n",
    "with tf.variable_scope('encoder', reuse=False):\n",
    "    \n",
    "    encoder_cell_fw = tf.contrib.rnn.MultiRNNCell(createLSTMLayers(encoder_layers, encoder_cells, encoder_dropout))\n",
    "    encoder_cell_bw = tf.contrib.rnn.MultiRNNCell(createLSTMLayers(encoder_layers, encoder_cells, encoder_dropout))\n",
    "    \n",
    "    (encoder_fw_outputs, encoder_bw_outputs), encoder_state_outputs = tf.nn.bidirectional_dynamic_rnn(\n",
    "                                        encoder_cell_fw,\n",
    "                                        encoder_cell_bw, \n",
    "                                        inputs=inputs,\n",
    "                                        dtype=tf.float32, time_major=False, swap_memory=True)\n",
    "    \n",
    "    encoder_final_state = tf.concat([state_tuple[0].h for state_tuple in encoder_state_outputs], axis=1)"
   ]
  },
  {
   "cell_type": "code",
   "execution_count": 11,
   "metadata": {},
   "outputs": [],
   "source": [
    "latent_vector_in = tf.contrib.layers.fully_connected(encoder_final_state, latent_dimensions, activation_fn=tf.nn.relu)"
   ]
  },
  {
   "cell_type": "code",
   "execution_count": 12,
   "metadata": {},
   "outputs": [],
   "source": [
    "latent_vector_out = tf.contrib.layers.fully_connected(latent_vector_in, decoder_cells, activation_fn=tf.nn.relu)"
   ]
  },
  {
   "cell_type": "code",
   "execution_count": 13,
   "metadata": {},
   "outputs": [],
   "source": [
    "decoder_inputs = tf.zeros([tf.shape(inputs)[0], seq_length, n_features])"
   ]
  },
  {
   "cell_type": "code",
   "execution_count": 14,
   "metadata": {},
   "outputs": [],
   "source": [
    "decoder_initial_state = tuple([tf.nn.rnn_cell.LSTMStateTuple(c=latent_vector_out, h=latent_vector_out) for i in \n",
    "                              range(decoder_layers)])"
   ]
  },
  {
   "cell_type": "code",
   "execution_count": 15,
   "metadata": {},
   "outputs": [],
   "source": [
    "#decoder\n",
    "\n",
    "with tf.variable_scope('decoder', reuse=False):\n",
    "    \n",
    "    decoder_cell_fw = tf.contrib.rnn.MultiRNNCell(createLSTMLayers(decoder_layers, decoder_cells, decoder_dropout))\n",
    "    decoder_cell_bw = tf.contrib.rnn.MultiRNNCell(createLSTMLayers(decoder_layers, decoder_cells, decoder_dropout))\n",
    "    \n",
    "    (decoder_fw_outputs, decoder_bw_outputs), decoder_state_outputs = tf.nn.bidirectional_dynamic_rnn(\n",
    "                                        decoder_cell_fw,\n",
    "                                        decoder_cell_bw, \n",
    "                                        inputs=decoder_inputs,\n",
    "                                        initial_state_fw=decoder_initial_state,\n",
    "                                        initial_state_bw=decoder_initial_state,\n",
    "                                        dtype=tf.float32, time_major=False, swap_memory=True)\n",
    "    \n",
    "    decoder_outputs = tf.concat([decoder_fw_outputs, decoder_bw_outputs], axis=2)"
   ]
  },
  {
   "cell_type": "code",
   "execution_count": 16,
   "metadata": {},
   "outputs": [],
   "source": [
    "output_layer = tf.contrib.layers.fully_connected(decoder_outputs, n_features, activation_fn=tf.nn.relu)"
   ]
  },
  {
   "cell_type": "code",
   "execution_count": 17,
   "metadata": {},
   "outputs": [],
   "source": [
    "loss = tf.reduce_sum(tf.square(inputs-output_layer))"
   ]
  },
  {
   "cell_type": "code",
   "execution_count": 18,
   "metadata": {},
   "outputs": [],
   "source": [
    "optimizer = tf.train.AdamOptimizer(learning_rate=lr).minimize(loss)"
   ]
  },
  {
   "cell_type": "code",
   "execution_count": 19,
   "metadata": {},
   "outputs": [],
   "source": [
    "with tf.Session() as sess:\n",
    "    sess.run(tf.global_variables_initializer())\n",
    "    \n",
    "    q = sess.run([output_layer], {inputs:[[[2.], [2.], [2.], [2.], [2.]]]})"
   ]
  },
  {
   "cell_type": "code",
   "execution_count": 21,
   "metadata": {},
   "outputs": [],
   "source": [
    "df_seqs = pd.DataFrame(padSeq(generatePseudoSequences(5, 1, 10, 10000, variable_length=True), 5))"
   ]
  },
  {
   "cell_type": "code",
   "execution_count": 22,
   "metadata": {},
   "outputs": [],
   "source": [
    "df_train, df_test = model_selection.train_test_split(df_seqs, test_size=0.2)"
   ]
  },
  {
   "cell_type": "code",
   "execution_count": 23,
   "metadata": {},
   "outputs": [],
   "source": [
    "#training\n",
    "\n",
    "n_epochs = 10\n",
    "\n",
    "n_batches = df_train.shape[0]//batch_size"
   ]
  },
  {
   "cell_type": "code",
   "execution_count": 24,
   "metadata": {},
   "outputs": [
    {
     "name": "stdout",
     "output_type": "stream",
     "text": [
      "10 250\n"
     ]
    }
   ],
   "source": [
    "print (n_epochs, n_batches)"
   ]
  },
  {
   "cell_type": "code",
   "execution_count": 37,
   "metadata": {},
   "outputs": [
    {
     "data": {
      "text/plain": [
       "array([[[  1.],\n",
       "        [  7.],\n",
       "        [  6.],\n",
       "        [  8.],\n",
       "        [  0.]],\n",
       "\n",
       "       [[  8.],\n",
       "        [  5.],\n",
       "        [  9.],\n",
       "        [  1.],\n",
       "        [  0.]],\n",
       "\n",
       "       [[ 10.],\n",
       "        [  0.],\n",
       "        [  0.],\n",
       "        [  0.],\n",
       "        [  0.]],\n",
       "\n",
       "       [[  2.],\n",
       "        [  3.],\n",
       "        [  1.],\n",
       "        [  0.],\n",
       "        [  0.]],\n",
       "\n",
       "       [[  8.],\n",
       "        [  2.],\n",
       "        [ 10.],\n",
       "        [  0.],\n",
       "        [  0.]],\n",
       "\n",
       "       [[  8.],\n",
       "        [  4.],\n",
       "        [  4.],\n",
       "        [ 10.],\n",
       "        [  0.]],\n",
       "\n",
       "       [[  8.],\n",
       "        [  3.],\n",
       "        [  0.],\n",
       "        [  0.],\n",
       "        [  0.]],\n",
       "\n",
       "       [[  9.],\n",
       "        [  0.],\n",
       "        [  0.],\n",
       "        [  0.],\n",
       "        [  0.]],\n",
       "\n",
       "       [[  3.],\n",
       "        [  0.],\n",
       "        [  0.],\n",
       "        [  0.],\n",
       "        [  0.]],\n",
       "\n",
       "       [[  8.],\n",
       "        [  9.],\n",
       "        [  7.],\n",
       "        [  7.],\n",
       "        [  0.]],\n",
       "\n",
       "       [[  9.],\n",
       "        [  9.],\n",
       "        [  5.],\n",
       "        [  7.],\n",
       "        [  0.]],\n",
       "\n",
       "       [[ 10.],\n",
       "        [  8.],\n",
       "        [ 10.],\n",
       "        [  9.],\n",
       "        [  0.]],\n",
       "\n",
       "       [[  5.],\n",
       "        [  4.],\n",
       "        [  1.],\n",
       "        [  6.],\n",
       "        [  3.]],\n",
       "\n",
       "       [[  1.],\n",
       "        [  1.],\n",
       "        [ 10.],\n",
       "        [  0.],\n",
       "        [  0.]],\n",
       "\n",
       "       [[  5.],\n",
       "        [  5.],\n",
       "        [  0.],\n",
       "        [  0.],\n",
       "        [  0.]],\n",
       "\n",
       "       [[  4.],\n",
       "        [  3.],\n",
       "        [  5.],\n",
       "        [  1.],\n",
       "        [  3.]],\n",
       "\n",
       "       [[  9.],\n",
       "        [  0.],\n",
       "        [  0.],\n",
       "        [  0.],\n",
       "        [  0.]],\n",
       "\n",
       "       [[  7.],\n",
       "        [ 10.],\n",
       "        [  5.],\n",
       "        [  9.],\n",
       "        [  0.]],\n",
       "\n",
       "       [[  8.],\n",
       "        [  2.],\n",
       "        [  0.],\n",
       "        [  0.],\n",
       "        [  0.]],\n",
       "\n",
       "       [[ 10.],\n",
       "        [  2.],\n",
       "        [  4.],\n",
       "        [  9.],\n",
       "        [  0.]],\n",
       "\n",
       "       [[  4.],\n",
       "        [  0.],\n",
       "        [  0.],\n",
       "        [  0.],\n",
       "        [  0.]],\n",
       "\n",
       "       [[  7.],\n",
       "        [  0.],\n",
       "        [  0.],\n",
       "        [  0.],\n",
       "        [  0.]],\n",
       "\n",
       "       [[  4.],\n",
       "        [  1.],\n",
       "        [  3.],\n",
       "        [  6.],\n",
       "        [  8.]],\n",
       "\n",
       "       [[  6.],\n",
       "        [  7.],\n",
       "        [  0.],\n",
       "        [  0.],\n",
       "        [  0.]],\n",
       "\n",
       "       [[  8.],\n",
       "        [  8.],\n",
       "        [  2.],\n",
       "        [  2.],\n",
       "        [  0.]],\n",
       "\n",
       "       [[  4.],\n",
       "        [  9.],\n",
       "        [  0.],\n",
       "        [  0.],\n",
       "        [  0.]],\n",
       "\n",
       "       [[  5.],\n",
       "        [  6.],\n",
       "        [  8.],\n",
       "        [  4.],\n",
       "        [  0.]],\n",
       "\n",
       "       [[  9.],\n",
       "        [ 10.],\n",
       "        [  9.],\n",
       "        [  9.],\n",
       "        [  9.]],\n",
       "\n",
       "       [[  8.],\n",
       "        [  8.],\n",
       "        [  7.],\n",
       "        [  9.],\n",
       "        [  0.]],\n",
       "\n",
       "       [[  1.],\n",
       "        [  3.],\n",
       "        [  7.],\n",
       "        [  0.],\n",
       "        [  0.]],\n",
       "\n",
       "       [[  5.],\n",
       "        [  5.],\n",
       "        [ 10.],\n",
       "        [  0.],\n",
       "        [  0.]],\n",
       "\n",
       "       [[ 10.],\n",
       "        [  7.],\n",
       "        [  1.],\n",
       "        [  2.],\n",
       "        [  0.]]])"
      ]
     },
     "execution_count": 37,
     "metadata": {},
     "output_type": "execute_result"
    }
   ],
   "source": [
    "batch"
   ]
  },
  {
   "cell_type": "code",
   "execution_count": 31,
   "metadata": {
    "scrolled": true
   },
   "outputs": [
    {
     "name": "stdout",
     "output_type": "stream",
     "text": [
      "Begin training\n",
      "epoch:0, batch:0, loss:4.7e+03\n",
      "epoch:0, batch:100, loss:1.12e+03\n",
      "epoch:0, batch:200, loss:1.08e+03\n",
      "epoch:1, batch:0, loss:947\n",
      "epoch:1, batch:100, loss:753\n",
      "epoch:1, batch:200, loss:821\n",
      "epoch:2, batch:0, loss:767\n",
      "epoch:2, batch:100, loss:666\n",
      "epoch:2, batch:200, loss:486\n",
      "epoch:3, batch:0, loss:587\n",
      "epoch:3, batch:100, loss:593\n",
      "epoch:3, batch:200, loss:746\n",
      "epoch:4, batch:0, loss:603\n",
      "epoch:4, batch:100, loss:687\n",
      "epoch:4, batch:200, loss:645\n",
      "epoch:5, batch:0, loss:724\n",
      "epoch:5, batch:100, loss:463\n",
      "epoch:5, batch:200, loss:691\n",
      "epoch:6, batch:0, loss:542\n",
      "epoch:6, batch:100, loss:574\n",
      "epoch:6, batch:200, loss:576\n",
      "epoch:7, batch:0, loss:473\n",
      "epoch:7, batch:100, loss:524\n",
      "epoch:7, batch:200, loss:557\n",
      "epoch:8, batch:0, loss:676\n",
      "epoch:8, batch:100, loss:536\n",
      "epoch:8, batch:200, loss:556\n",
      "epoch:9, batch:0, loss:524\n",
      "epoch:9, batch:100, loss:532\n",
      "epoch:9, batch:200, loss:621\n"
     ]
    }
   ],
   "source": [
    "with tf.Session() as sess:\n",
    "    \n",
    "    sess.run(tf.global_variables_initializer())\n",
    "    \n",
    "    print ('Begin training')\n",
    "    \n",
    "    for c_epoch in range(n_epochs):\n",
    "        df_epoch_samples = df_train.sample(frac=1)\n",
    "        for c_batch in range(n_batches): \n",
    "            batch = df_epoch_samples[c_batch*batch_size:(c_batch+1)*batch_size].values\n",
    "            batch = batch.reshape(len(batch), seq_length, 1)\n",
    "            _, c_loss = sess.run([optimizer, loss], {inputs:batch})\n",
    "            \n",
    "            if c_batch%100==0:\n",
    "                print ('epoch:%d, batch:%d, loss:%.3g' % (c_epoch, c_batch, c_loss))\n",
    "    \n",
    "    latent_vectors = sess.run(latent_vector_in, {inputs:df_train.values.reshape(df_train.shape[0], seq_length, 1)})\n"
   ]
  },
  {
   "cell_type": "code",
   "execution_count": 36,
   "metadata": {},
   "outputs": [
    {
     "data": {
      "image/png": "[encoded data removed]",
      "text/plain": [
       "<matplotlib.figure.Figure at 0x2ae80c2beb8>"
      ]
     },
     "metadata": {},
     "output_type": "display_data"
    }
   ],
   "source": [
    "#Analysis\n",
    "\n",
    "plt.figure(figsize=(10, 10))\n",
    "plt.scatter(latent_vectors[:,0], latent_vectors[:,1])\n",
    "plt.show()"
   ]
  },
  {
   "cell_type": "code",
   "execution_count": null,
   "metadata": {},
   "outputs": [],
   "source": []
  }
 ],
 "metadata": {
  "kernelspec": {
   "display_name": "Python 3",
   "language": "python",
   "name": "python3"
  },
  "language_info": {
   "codemirror_mode": {
    "name": "ipython",
    "version": 3
   },
   "file_extension": ".py",
   "mimetype": "text/x-python",
   "name": "python",
   "nbconvert_exporter": "python",
   "pygments_lexer": "ipython3",
   "version": "3.5.4"
  }
 },
 "nbformat": 4,
 "nbformat_minor": 2
}
