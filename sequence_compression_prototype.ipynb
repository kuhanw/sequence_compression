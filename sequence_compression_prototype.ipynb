{
 "cells": [
  {
   "cell_type": "code",
   "execution_count": 81,
   "metadata": {},
   "outputs": [],
   "source": [
    "import random\n",
    "import itertools\n",
    "\n",
    "import tensorflow as tf\n",
    "import numpy as np\n",
    "import pandas as pd\n",
    "import matplotlib.pyplot as plt\n",
    "import seaborn as sns\n",
    "\n",
    "from scipy import signal\n",
    "from sklearn import model_selection\n",
    "\n",
    "pd.set_option('display.max_columns', 25)"
   ]
  },
  {
   "cell_type": "code",
   "execution_count": 2,
   "metadata": {},
   "outputs": [],
   "source": [
    "def createLSTMLayers(n_layers, n_cells, dropout):\n",
    "    cell_list = []\n",
    "    \n",
    "    for layer in range(n_layers):\n",
    "        cell = tf.contrib.rnn.LayerNormBasicLSTMCell(n_cells, activation=tf.nn.relu, layer_norm=False)\n",
    "        \n",
    "        cell_list.append(cell)\n",
    "        \n",
    "    return cell_list"
   ]
  },
  {
   "cell_type": "code",
   "execution_count": 3,
   "metadata": {},
   "outputs": [],
   "source": [
    "def padSeq(seqs, pad_length, right_pad=True):\n",
    "    \n",
    "    '''\n",
    "    padSeq\n",
    "    \n",
    "    Pad sequences to be equal length.\n",
    "    \n",
    "    seqs: sequences to be padded\n",
    "    pad_length: length to pad sequences\n",
    "    left_pad: Pad at the end of the sequences, or reverse pad from front\n",
    "    '''\n",
    "    \n",
    "    padded_seqs = np.zeros((len(seqs), pad_length))\n",
    "    \n",
    "    for idx_row, row in enumerate(seqs):\n",
    "        for idx_col, col in enumerate(row):\n",
    "            if right_pad:\n",
    "                padded_seqs[idx_row, idx_col] = seqs[idx_row][idx_col]\n",
    "            else:\n",
    "                padded_seqs[idx_row, pad_length-idx_col-1] = seqs[idx_row][len(row)-idx_col-1]\n",
    "    return padded_seqs"
   ]
  },
  {
   "cell_type": "code",
   "execution_count": 4,
   "metadata": {},
   "outputs": [],
   "source": [
    "tf.reset_default_graph()\n",
    "\n",
    "#Network parameters\n",
    "encoder_layers = 1\n",
    "encoder_cells = 6\n",
    "encoder_dropout = 1\n",
    "\n",
    "decoder_layers = 1\n",
    "decoder_cells = 6\n",
    "decoder_dropout = 1\n",
    "\n",
    "seq_length = 10\n",
    "n_features = 1\n",
    "\n",
    "embedding_dimensions = 13\n",
    "vocabulary_size = 20\n",
    "latent_dimensions = 2\n",
    "\n",
    "#Training Parameters\n",
    "lr = 0.001\n",
    "batch_size = 128"
   ]
  },
  {
   "cell_type": "code",
   "execution_count": 5,
   "metadata": {},
   "outputs": [],
   "source": [
    "inputs = tf.placeholder(name='input', shape=[None, seq_length], dtype=tf.int32)"
   ]
  },
  {
   "cell_type": "code",
   "execution_count": 6,
   "metadata": {},
   "outputs": [],
   "source": [
    "input_lengths = tf.placeholder(name='input_lengths', shape=[None], dtype=tf.int32)"
   ]
  },
  {
   "cell_type": "code",
   "execution_count": 7,
   "metadata": {},
   "outputs": [],
   "source": [
    "embedding_matrix = tf.get_variable('embeddings', [vocabulary_size, embedding_dimensions])"
   ]
  },
  {
   "cell_type": "code",
   "execution_count": 8,
   "metadata": {},
   "outputs": [],
   "source": [
    "embedding_inputs = tf.nn.embedding_lookup(embedding_matrix, inputs)"
   ]
  },
  {
   "cell_type": "code",
   "execution_count": 9,
   "metadata": {},
   "outputs": [],
   "source": [
    "#encoder\n",
    "with tf.variable_scope('encoder', reuse=False):\n",
    "    \n",
    "    encoder_cell_fw = tf.contrib.rnn.MultiRNNCell(createLSTMLayers(encoder_layers, encoder_cells, encoder_dropout))\n",
    "    encoder_cell_bw = tf.contrib.rnn.MultiRNNCell(createLSTMLayers(encoder_layers, encoder_cells, encoder_dropout))\n",
    "    \n",
    "    (encoder_fw_outputs, encoder_bw_outputs), encoder_state_outputs = tf.nn.bidirectional_dynamic_rnn(\n",
    "                                        encoder_cell_fw,\n",
    "                                        encoder_cell_bw, \n",
    "                                        inputs=embedding_inputs,\n",
    "                                        dtype=tf.float32, time_major=False, swap_memory=True)\n",
    "    \n",
    "    encoder_final_state = tf.concat([state_tuple[0].h for state_tuple in encoder_state_outputs], axis=1)"
   ]
  },
  {
   "cell_type": "code",
   "execution_count": 11,
   "metadata": {},
   "outputs": [],
   "source": [
    "latent_vector_in = tf.contrib.layers.fully_connected(encoder_final_state, latent_dimensions, \n",
    "                                                     activation_fn=tf.nn.relu,\n",
    "                                                     normalizer_fn=tf.contrib.layers.batch_norm)"
   ]
  },
  {
   "cell_type": "code",
   "execution_count": 12,
   "metadata": {},
   "outputs": [],
   "source": [
    "latent_vector_out = tf.contrib.layers.fully_connected(latent_vector_in, decoder_cells, \n",
    "                                                      activation_fn=tf.nn.relu,\n",
    "                                                      normalizer_fn=tf.contrib.layers.batch_norm)"
   ]
  },
  {
   "cell_type": "code",
   "execution_count": 13,
   "metadata": {},
   "outputs": [],
   "source": [
    "decoder_inputs = tf.zeros([tf.shape(inputs)[0], seq_length, n_features])"
   ]
  },
  {
   "cell_type": "code",
   "execution_count": 14,
   "metadata": {},
   "outputs": [],
   "source": [
    "decoder_initial_state = tuple([tf.nn.rnn_cell.LSTMStateTuple(c=latent_vector_out, h=latent_vector_out) for i in \n",
    "                              range(decoder_layers)])"
   ]
  },
  {
   "cell_type": "code",
   "execution_count": 15,
   "metadata": {},
   "outputs": [],
   "source": [
    "#decoder\n",
    "\n",
    "with tf.variable_scope('decoder', reuse=False):\n",
    "    \n",
    "    decoder_cell_fw = tf.contrib.rnn.MultiRNNCell(createLSTMLayers(decoder_layers, decoder_cells, decoder_dropout))\n",
    "    decoder_cell_bw = tf.contrib.rnn.MultiRNNCell(createLSTMLayers(decoder_layers, decoder_cells, decoder_dropout))\n",
    "    \n",
    "    (decoder_fw_outputs, decoder_bw_outputs), decoder_state_outputs = tf.nn.bidirectional_dynamic_rnn(\n",
    "                                        decoder_cell_fw,\n",
    "                                        decoder_cell_bw, \n",
    "                                        inputs=decoder_inputs,\n",
    "                                        initial_state_fw=decoder_initial_state,\n",
    "                                        initial_state_bw=decoder_initial_state,\n",
    "                                        dtype=tf.float32, time_major=False, swap_memory=True)\n",
    "    \n",
    "    decoder_outputs = tf.reduce_sum([decoder_fw_outputs, decoder_bw_outputs], axis=0)"
   ]
  },
  {
   "cell_type": "code",
   "execution_count": 16,
   "metadata": {},
   "outputs": [],
   "source": [
    "#I think what is confusing you here is that the input has to one hot encoded if they categorical!"
   ]
  },
  {
   "cell_type": "code",
   "execution_count": 17,
   "metadata": {},
   "outputs": [],
   "source": [
    "output_layer = tf.contrib.layers.fully_connected(decoder_outputs, vocabulary_size, activation_fn=tf.nn.relu)"
   ]
  },
  {
   "cell_type": "code",
   "execution_count": 18,
   "metadata": {},
   "outputs": [],
   "source": [
    "output_probs = tf.contrib.layers.softmax(output_layer)"
   ]
  },
  {
   "cell_type": "code",
   "execution_count": 19,
   "metadata": {},
   "outputs": [],
   "source": [
    "output_pred = tf.argmax(output_layer, axis=2)"
   ]
  },
  {
   "cell_type": "code",
   "execution_count": 20,
   "metadata": {},
   "outputs": [
    {
     "data": {
      "text/plain": [
       "(<tf.Tensor 'softmax/Reshape_1:0' shape=(?, 10, 20) dtype=float32>,\n",
       " <tf.Tensor 'ArgMax:0' shape=(?, 10) dtype=int64>,\n",
       " <tf.Tensor 'input:0' shape=(?, 10) dtype=int32>)"
      ]
     },
     "execution_count": 20,
     "metadata": {},
     "output_type": "execute_result"
    }
   ],
   "source": [
    "output_probs, output_pred, inputs"
   ]
  },
  {
   "cell_type": "code",
   "execution_count": 21,
   "metadata": {},
   "outputs": [],
   "source": [
    "masks = tf.sequence_mask(lengths=input_lengths, maxlen=seq_length, dtype=tf.float32, name='masks')"
   ]
  },
  {
   "cell_type": "code",
   "execution_count": 22,
   "metadata": {},
   "outputs": [],
   "source": [
    "#Here the inputs can dense as opposed to one hot encoded\n",
    "#loss = tf.nn.sparse_softmax_cross_entropy_with_logits(labels=inputs, logits=output_layer)\n",
    "\n",
    "#try using sequence loss instead\n",
    "\n",
    "loss = tf.contrib.seq2seq.sequence_loss(logits=output_layer, targets=inputs, weights=masks)"
   ]
  },
  {
   "cell_type": "code",
   "execution_count": 23,
   "metadata": {},
   "outputs": [],
   "source": [
    "#loss = tf.reduce_sum(tf.square(inputs-output_layer))"
   ]
  },
  {
   "cell_type": "code",
   "execution_count": 24,
   "metadata": {},
   "outputs": [],
   "source": [
    "optimizer = tf.train.AdamOptimizer(learning_rate=lr).minimize(loss)"
   ]
  },
  {
   "cell_type": "code",
   "execution_count": 25,
   "metadata": {},
   "outputs": [],
   "source": [
    "signal_types = [signal.exponential, signal.boxcar] "
   ]
  },
  {
   "cell_type": "code",
   "execution_count": 27,
   "metadata": {},
   "outputs": [],
   "source": [
    "def generatePseudoSequences(seq_length, low, high, n_seqs, seed, variable_length=False):\n",
    "    \n",
    "    '''\n",
    "    generatePseudoSequences\n",
    "    \n",
    "    seq_length: Length of sequence to generate\n",
    "    low: lower bound of values\n",
    "    high: upper bound of values\n",
    "    n_seqs: number of sequences to generate\n",
    "    variable_length: Create sequence of variable length    \n",
    "    '''\n",
    "    random.seed(seed)\n",
    "    \n",
    "    #Generate random sequences\n",
    "    random_seqs = []\n",
    "    for seq in range(n_seqs):\n",
    "        if variable_length: current_length = random.randint(1, seq_length)\n",
    "        else: current_length = seq_length\n",
    "        current_seq = [random.randint(low, high) for _ in range(current_length)]\n",
    "        \n",
    "        random_seqs.append(current_seq)\n",
    "        \n",
    "    #Generate repeating sequences    \n",
    "    repeat_seqs = []\n",
    "    for seq in range(n_seqs):\n",
    "        if variable_length: current_length = random.randint(1, seq_length)\n",
    "        else: current_length = seq_length\n",
    "        seq_value = random.randint(low, high)\n",
    "        current_seq = [seq_value for _ in range(current_length)]\n",
    "        \n",
    "        repeat_seqs.append(current_seq)\n",
    "        \n",
    "    #Generate ascending sequences    \n",
    "    ascend_seqs = []\n",
    "    for seq in range(n_seqs):\n",
    "        if variable_length: current_length = random.randint(1, seq_length)\n",
    "        else: current_length = seq_length\n",
    "        seq_value = random.randint(low, high)\n",
    "        current_seq = [seq_value+i for i in range(0, current_length, 1)]\n",
    "        \n",
    "        ascend_seqs.append(current_seq)\n",
    "    \n",
    "    #Generate descending sequences\n",
    "    descend_seqs = []\n",
    "    for seq in range(n_seqs):\n",
    "        if variable_length: current_length = random.randint(1, seq_length)\n",
    "        else: current_length = seq_length\n",
    "        seq_value = random.randint(low+2, high)\n",
    "        current_seq = [seq_value-i for i in range(0, current_length, 1)]\n",
    "        \n",
    "        descend_seqs.append(current_seq)\n",
    "    \n",
    "    #Generate skip sequences\n",
    "    skip_seqs = []\n",
    "    for seq in range(n_seqs):\n",
    "        if variable_length: current_length = random.randint(2, seq_length)\n",
    "        else: current_length = seq_length\n",
    "        skip_value = random.randint(1, 5)\n",
    "        seq_value = random.randint(low, high)\n",
    "        seq_value = seq_value-skip_value\n",
    "        current_seq = [seq_value+i*skip_value for i in range(0, current_length, 1)]\n",
    "        \n",
    "        skip_seqs.append(current_seq)\n",
    "\n",
    "    #Generate signal sequences\n",
    "    sig_seqs = []\n",
    "    for seq in range(n_seqs):\n",
    "        #Signal width should not be less then five here\n",
    "        if variable_length: current_length = random.randint(5, seq_length)\n",
    "        else: variable_length = max(5, seq_length)\n",
    "        tau_value = random.random()/variable_length\n",
    "        signal = random.sample(signal_types, k=1)[0]\n",
    "        amplitude = random.random()*random.randrange(low, high)\n",
    "        current_seq = [i*amplitude for i in signal(M=current_length)]        \n",
    "        sig_seqs.append(current_seq)\n",
    "\n",
    "        \n",
    "    #return np.concatenate([descend_seqs, ascend_seqs])\n",
    "    #return skip_seqs\n",
    "    #return random_seqs\n",
    "    return sig_seqs"
   ]
  },
  {
   "cell_type": "code",
   "execution_count": 28,
   "metadata": {},
   "outputs": [],
   "source": [
    "pseudo_seqs = generatePseudoSequences(seq_length, 1, 10, 50000, 0, variable_length=True)"
   ]
  },
  {
   "cell_type": "code",
   "execution_count": 29,
   "metadata": {},
   "outputs": [],
   "source": [
    "pseudo_seqs_lengths = [len(i) for i in pseudo_seqs]"
   ]
  },
  {
   "cell_type": "code",
   "execution_count": 30,
   "metadata": {},
   "outputs": [],
   "source": [
    "df_seqs = pd.DataFrame(padSeq(pseudo_seqs, seq_length))"
   ]
  },
  {
   "cell_type": "code",
   "execution_count": 31,
   "metadata": {},
   "outputs": [],
   "source": [
    "seq_cols = df_seqs.columns.values"
   ]
  },
  {
   "cell_type": "code",
   "execution_count": 32,
   "metadata": {},
   "outputs": [],
   "source": [
    "df_seqs['seq_length'] = pseudo_seqs_lengths"
   ]
  },
  {
   "cell_type": "code",
   "execution_count": 368,
   "metadata": {},
   "outputs": [],
   "source": [
    "#df_seqs['label'] = df_seqs[seq_cols].apply(lambda x:'_'.join([str(i) for i in x]), axis=1)"
   ]
  },
  {
   "cell_type": "code",
   "execution_count": 34,
   "metadata": {},
   "outputs": [],
   "source": [
    "#df_seqs['label'] = df_seqs[1]-df_seqs[0]"
   ]
  },
  {
   "cell_type": "code",
   "execution_count": 38,
   "metadata": {},
   "outputs": [],
   "source": [
    "df_seqs['label'] = df_seqs[1]==df_seqs[0]"
   ]
  },
  {
   "cell_type": "code",
   "execution_count": 370,
   "metadata": {},
   "outputs": [],
   "source": [
    "#df_seqs['label'] = df_seqs[0].apply(str)"
   ]
  },
  {
   "cell_type": "code",
   "execution_count": 39,
   "metadata": {},
   "outputs": [],
   "source": [
    "df_seqs = df_seqs.sample(frac=1)"
   ]
  },
  {
   "cell_type": "code",
   "execution_count": 56,
   "metadata": {},
   "outputs": [],
   "source": [
    "quantiles = np.linspace(0, 100, num=vocabulary_size)"
   ]
  },
  {
   "cell_type": "code",
   "execution_count": 83,
   "metadata": {},
   "outputs": [],
   "source": [
    "def findQuantileBounds(dist):\n",
    "    \n",
    "    #remove all zero pads\n",
    "    \n",
    "    dist = [i for i in dist if i!=0]\n",
    "    quantile_bounds = []\n",
    "    for quantile in quantiles:\n",
    "        quantile_bounds.append(np.percentile(dist, q=quantile))\n",
    "    \n",
    "    return quantile_bounds"
   ]
  },
  {
   "cell_type": "code",
   "execution_count": 90,
   "metadata": {},
   "outputs": [],
   "source": [
    "all_seq_values = [i for j in df_seqs[seq_cols].values for i in j]"
   ]
  },
  {
   "cell_type": "code",
   "execution_count": 93,
   "metadata": {},
   "outputs": [],
   "source": [
    "all_seq_values = [i for i in all_seq_values if i!=0]"
   ]
  },
  {
   "cell_type": "code",
   "execution_count": 87,
   "metadata": {},
   "outputs": [],
   "source": [
    "def assignQuantileCategory(dist, bounds=None):\n",
    "    if not bounds:\n",
    "        quantile_bounds = findQuantileBounds(dist)\n",
    "    else:\n",
    "        quantile_bounds = bounds\n",
    "    quantile_categories = []\n",
    "    for value in dist:\n",
    "        current_category = 0\n",
    "        for idx_bound, bound in enumerate(quantile_bounds):\n",
    "            if bound>value:\n",
    "                current_category=idx_bound\n",
    "                #print (current_category)\n",
    "                break\n",
    "        \n",
    "        quantile_categories.append(current_category)\n",
    "                \n",
    "    return quantile_categories"
   ]
  },
  {
   "cell_type": "code",
   "execution_count": 96,
   "metadata": {},
   "outputs": [],
   "source": [
    "bounds = findQuantileBounds(all_seq_values)\n",
    "for seq_pos in range(seq_length):\n",
    "    df_seqs['cat_%d' % seq_pos] = assignQuantileCategory(df_seqs[seq_pos].values, bounds)"
   ]
  },
  {
   "cell_type": "code",
   "execution_count": 98,
   "metadata": {},
   "outputs": [],
   "source": [
    "df_train, df_test = model_selection.train_test_split(df_seqs, test_size=0.2)"
   ]
  },
  {
   "cell_type": "code",
   "execution_count": 99,
   "metadata": {},
   "outputs": [],
   "source": [
    "df_train.reset_index(drop=True, inplace=True)\n",
    "df_test.reset_index(drop=True, inplace=True)"
   ]
  },
  {
   "cell_type": "code",
   "execution_count": 117,
   "metadata": {},
   "outputs": [],
   "source": [
    "#training\n",
    "\n",
    "n_epochs = 50\n",
    "n_batches = df_train.shape[0]//batch_size"
   ]
  },
  {
   "cell_type": "code",
   "execution_count": 101,
   "metadata": {},
   "outputs": [],
   "source": [
    "cat_cols = ['cat_%d' % i for i in range(seq_length)]"
   ]
  },
  {
   "cell_type": "code",
   "execution_count": 103,
   "metadata": {},
   "outputs": [],
   "source": [
    "train_cols = cat_cols"
   ]
  },
  {
   "cell_type": "code",
   "execution_count": 118,
   "metadata": {
    "scrolled": true
   },
   "outputs": [
    {
     "name": "stdout",
     "output_type": "stream",
     "text": [
      "Begin training\n",
      "epoch:0, batch:0, batch loss:2.95, test loss:3, norm batch loss:0.023, norm test loss:0.0234\n",
      "epoch:0, batch:300, batch loss:2.33, test loss:2.45, norm batch loss:0.0182, norm test loss:0.0191\n",
      "epoch:1, batch:0, batch loss:2.48, test loss:2.37, norm batch loss:0.0194, norm test loss:0.0186\n",
      "epoch:1, batch:300, batch loss:2.41, test loss:2.24, norm batch loss:0.0188, norm test loss:0.0175\n",
      "epoch:2, batch:0, batch loss:2.28, test loss:2.43, norm batch loss:0.0178, norm test loss:0.019\n",
      "epoch:2, batch:300, batch loss:2.17, test loss:2, norm batch loss:0.017, norm test loss:0.0156\n",
      "epoch:3, batch:0, batch loss:2.13, test loss:2.17, norm batch loss:0.0167, norm test loss:0.0169\n",
      "epoch:3, batch:300, batch loss:2.03, test loss:2.03, norm batch loss:0.0159, norm test loss:0.0159\n",
      "epoch:4, batch:0, batch loss:2.09, test loss:2.02, norm batch loss:0.0163, norm test loss:0.0158\n",
      "epoch:4, batch:300, batch loss:2.13, test loss:1.99, norm batch loss:0.0166, norm test loss:0.0155\n",
      "epoch:5, batch:0, batch loss:2.13, test loss:2, norm batch loss:0.0166, norm test loss:0.0156\n",
      "epoch:5, batch:300, batch loss:1.82, test loss:1.93, norm batch loss:0.0142, norm test loss:0.0151\n",
      "epoch:6, batch:0, batch loss:2.05, test loss:1.97, norm batch loss:0.016, norm test loss:0.0154\n",
      "epoch:6, batch:300, batch loss:1.96, test loss:1.75, norm batch loss:0.0153, norm test loss:0.0137\n",
      "epoch:7, batch:0, batch loss:2.15, test loss:1.97, norm batch loss:0.0168, norm test loss:0.0154\n",
      "epoch:7, batch:300, batch loss:1.68, test loss:1.75, norm batch loss:0.0131, norm test loss:0.0137\n",
      "epoch:8, batch:0, batch loss:1.9, test loss:1.81, norm batch loss:0.0149, norm test loss:0.0142\n",
      "epoch:8, batch:300, batch loss:1.7, test loss:1.79, norm batch loss:0.0133, norm test loss:0.014\n",
      "epoch:9, batch:0, batch loss:1.91, test loss:1.73, norm batch loss:0.0149, norm test loss:0.0135\n",
      "epoch:9, batch:300, batch loss:1.78, test loss:1.94, norm batch loss:0.0139, norm test loss:0.0152\n",
      "epoch:10, batch:0, batch loss:1.86, test loss:1.75, norm batch loss:0.0145, norm test loss:0.0136\n",
      "epoch:10, batch:300, batch loss:1.7, test loss:1.72, norm batch loss:0.0133, norm test loss:0.0135\n",
      "epoch:11, batch:0, batch loss:1.68, test loss:1.63, norm batch loss:0.0131, norm test loss:0.0128\n",
      "epoch:11, batch:300, batch loss:1.67, test loss:1.66, norm batch loss:0.0131, norm test loss:0.013\n",
      "epoch:12, batch:0, batch loss:1.78, test loss:1.55, norm batch loss:0.0139, norm test loss:0.0121\n",
      "epoch:12, batch:300, batch loss:1.63, test loss:1.73, norm batch loss:0.0127, norm test loss:0.0136\n",
      "epoch:13, batch:0, batch loss:1.65, test loss:1.66, norm batch loss:0.0129, norm test loss:0.0129\n",
      "epoch:13, batch:300, batch loss:1.67, test loss:1.64, norm batch loss:0.0131, norm test loss:0.0128\n",
      "epoch:14, batch:0, batch loss:1.84, test loss:1.74, norm batch loss:0.0144, norm test loss:0.0136\n",
      "epoch:14, batch:300, batch loss:1.61, test loss:1.54, norm batch loss:0.0126, norm test loss:0.012\n",
      "epoch:15, batch:0, batch loss:1.8, test loss:1.72, norm batch loss:0.0141, norm test loss:0.0134\n",
      "epoch:15, batch:300, batch loss:1.78, test loss:2.08, norm batch loss:0.0139, norm test loss:0.0162\n",
      "epoch:16, batch:0, batch loss:1.51, test loss:1.77, norm batch loss:0.0118, norm test loss:0.0138\n",
      "epoch:16, batch:300, batch loss:1.7, test loss:1.58, norm batch loss:0.0133, norm test loss:0.0124\n",
      "epoch:17, batch:0, batch loss:1.71, test loss:1.58, norm batch loss:0.0134, norm test loss:0.0124\n",
      "epoch:17, batch:300, batch loss:1.61, test loss:1.75, norm batch loss:0.0126, norm test loss:0.0137\n",
      "epoch:18, batch:0, batch loss:1.5, test loss:1.51, norm batch loss:0.0117, norm test loss:0.0118\n",
      "epoch:18, batch:300, batch loss:1.72, test loss:1.59, norm batch loss:0.0134, norm test loss:0.0124\n",
      "epoch:19, batch:0, batch loss:1.78, test loss:1.44, norm batch loss:0.0139, norm test loss:0.0112\n",
      "epoch:19, batch:300, batch loss:1.6, test loss:1.57, norm batch loss:0.0125, norm test loss:0.0123\n",
      "epoch:20, batch:0, batch loss:1.59, test loss:1.69, norm batch loss:0.0124, norm test loss:0.0132\n",
      "epoch:20, batch:300, batch loss:1.52, test loss:1.29, norm batch loss:0.0119, norm test loss:0.0101\n",
      "epoch:21, batch:0, batch loss:1.52, test loss:1.54, norm batch loss:0.0118, norm test loss:0.0121\n",
      "epoch:21, batch:300, batch loss:1.79, test loss:1.52, norm batch loss:0.014, norm test loss:0.0119\n",
      "epoch:22, batch:0, batch loss:1.61, test loss:1.5, norm batch loss:0.0126, norm test loss:0.0117\n",
      "epoch:22, batch:300, batch loss:1.64, test loss:1.56, norm batch loss:0.0129, norm test loss:0.0122\n",
      "epoch:23, batch:0, batch loss:1.62, test loss:1.74, norm batch loss:0.0126, norm test loss:0.0136\n",
      "epoch:23, batch:300, batch loss:1.6, test loss:1.65, norm batch loss:0.0125, norm test loss:0.0129\n",
      "epoch:24, batch:0, batch loss:1.52, test loss:1.87, norm batch loss:0.0119, norm test loss:0.0146\n",
      "epoch:24, batch:300, batch loss:1.61, test loss:1.5, norm batch loss:0.0126, norm test loss:0.0117\n",
      "epoch:25, batch:0, batch loss:1.69, test loss:1.42, norm batch loss:0.0132, norm test loss:0.0111\n",
      "epoch:25, batch:300, batch loss:1.68, test loss:1.62, norm batch loss:0.0131, norm test loss:0.0126\n",
      "epoch:26, batch:0, batch loss:1.66, test loss:1.72, norm batch loss:0.0129, norm test loss:0.0135\n",
      "epoch:26, batch:300, batch loss:1.57, test loss:1.62, norm batch loss:0.0122, norm test loss:0.0127\n",
      "epoch:27, batch:0, batch loss:1.57, test loss:1.5, norm batch loss:0.0123, norm test loss:0.0117\n",
      "epoch:27, batch:300, batch loss:1.44, test loss:1.7, norm batch loss:0.0112, norm test loss:0.0133\n",
      "epoch:28, batch:0, batch loss:1.43, test loss:1.49, norm batch loss:0.0112, norm test loss:0.0116\n",
      "epoch:28, batch:300, batch loss:1.4, test loss:1.55, norm batch loss:0.0109, norm test loss:0.0121\n",
      "epoch:29, batch:0, batch loss:1.59, test loss:1.77, norm batch loss:0.0124, norm test loss:0.0138\n",
      "epoch:29, batch:300, batch loss:1.66, test loss:1.51, norm batch loss:0.013, norm test loss:0.0118\n",
      "epoch:30, batch:0, batch loss:1.63, test loss:1.93, norm batch loss:0.0128, norm test loss:0.0151\n",
      "epoch:30, batch:300, batch loss:1.55, test loss:1.85, norm batch loss:0.0121, norm test loss:0.0145\n",
      "epoch:31, batch:0, batch loss:1.68, test loss:1.43, norm batch loss:0.0131, norm test loss:0.0112\n",
      "epoch:31, batch:300, batch loss:1.64, test loss:1.62, norm batch loss:0.0128, norm test loss:0.0126\n",
      "epoch:32, batch:0, batch loss:1.58, test loss:1.47, norm batch loss:0.0123, norm test loss:0.0115\n",
      "epoch:32, batch:300, batch loss:1.77, test loss:1.59, norm batch loss:0.0138, norm test loss:0.0124\n",
      "epoch:33, batch:0, batch loss:1.56, test loss:1.66, norm batch loss:0.0122, norm test loss:0.013\n",
      "epoch:33, batch:300, batch loss:1.56, test loss:1.48, norm batch loss:0.0122, norm test loss:0.0116\n",
      "epoch:34, batch:0, batch loss:1.59, test loss:1.52, norm batch loss:0.0124, norm test loss:0.0119\n",
      "epoch:34, batch:300, batch loss:1.52, test loss:1.55, norm batch loss:0.0119, norm test loss:0.0121\n",
      "epoch:35, batch:0, batch loss:1.53, test loss:1.37, norm batch loss:0.012, norm test loss:0.0107\n",
      "epoch:35, batch:300, batch loss:1.45, test loss:1.45, norm batch loss:0.0113, norm test loss:0.0113\n",
      "epoch:36, batch:0, batch loss:1.49, test loss:1.79, norm batch loss:0.0117, norm test loss:0.014\n",
      "epoch:36, batch:300, batch loss:1.56, test loss:1.44, norm batch loss:0.0122, norm test loss:0.0112\n",
      "epoch:37, batch:0, batch loss:1.53, test loss:1.59, norm batch loss:0.012, norm test loss:0.0124\n",
      "epoch:37, batch:300, batch loss:1.57, test loss:1.48, norm batch loss:0.0122, norm test loss:0.0116\n",
      "epoch:38, batch:0, batch loss:1.5, test loss:1.65, norm batch loss:0.0117, norm test loss:0.0129\n",
      "epoch:38, batch:300, batch loss:1.46, test loss:1.68, norm batch loss:0.0114, norm test loss:0.0131\n",
      "epoch:39, batch:0, batch loss:1.42, test loss:1.51, norm batch loss:0.0111, norm test loss:0.0118\n",
      "epoch:39, batch:300, batch loss:1.53, test loss:1.9, norm batch loss:0.012, norm test loss:0.0149\n",
      "epoch:40, batch:0, batch loss:1.58, test loss:1.63, norm batch loss:0.0123, norm test loss:0.0128\n",
      "epoch:40, batch:300, batch loss:1.6, test loss:1.78, norm batch loss:0.0125, norm test loss:0.0139\n",
      "epoch:41, batch:0, batch loss:1.71, test loss:1.91, norm batch loss:0.0134, norm test loss:0.015\n",
      "epoch:41, batch:300, batch loss:1.64, test loss:1.47, norm batch loss:0.0128, norm test loss:0.0115\n"
     ]
    },
    {
     "name": "stdout",
     "output_type": "stream",
     "text": [
      "epoch:42, batch:0, batch loss:1.48, test loss:1.52, norm batch loss:0.0116, norm test loss:0.0119\n",
      "epoch:42, batch:300, batch loss:1.46, test loss:1.5, norm batch loss:0.0114, norm test loss:0.0117\n",
      "epoch:43, batch:0, batch loss:1.61, test loss:1.57, norm batch loss:0.0126, norm test loss:0.0123\n",
      "epoch:43, batch:300, batch loss:1.54, test loss:1.55, norm batch loss:0.012, norm test loss:0.0121\n",
      "epoch:44, batch:0, batch loss:1.59, test loss:1.3, norm batch loss:0.0124, norm test loss:0.0102\n",
      "epoch:44, batch:300, batch loss:1.85, test loss:1.66, norm batch loss:0.0145, norm test loss:0.013\n",
      "epoch:45, batch:0, batch loss:1.36, test loss:1.45, norm batch loss:0.0107, norm test loss:0.0113\n",
      "epoch:45, batch:300, batch loss:1.32, test loss:1.36, norm batch loss:0.0103, norm test loss:0.0106\n",
      "epoch:46, batch:0, batch loss:1.65, test loss:1.49, norm batch loss:0.0129, norm test loss:0.0116\n",
      "epoch:46, batch:300, batch loss:1.45, test loss:1.56, norm batch loss:0.0114, norm test loss:0.0122\n",
      "epoch:47, batch:0, batch loss:1.46, test loss:1.59, norm batch loss:0.0114, norm test loss:0.0124\n",
      "epoch:47, batch:300, batch loss:1.65, test loss:1.45, norm batch loss:0.0129, norm test loss:0.0113\n",
      "epoch:48, batch:0, batch loss:1.42, test loss:1.42, norm batch loss:0.0111, norm test loss:0.0111\n",
      "epoch:48, batch:300, batch loss:1.53, test loss:1.46, norm batch loss:0.0119, norm test loss:0.0114\n",
      "epoch:49, batch:0, batch loss:1.35, test loss:1.58, norm batch loss:0.0106, norm test loss:0.0123\n",
      "epoch:49, batch:300, batch loss:1.56, test loss:1.47, norm batch loss:0.0122, norm test loss:0.0115\n"
     ]
    }
   ],
   "source": [
    "metrics = []\n",
    "with tf.Session() as sess:\n",
    "    \n",
    "    sess.run(tf.global_variables_initializer())\n",
    "    \n",
    "    print ('Begin training')\n",
    "    \n",
    "    for c_epoch in range(n_epochs):\n",
    "        df_train_current = df_train.sample(frac=1)\n",
    "        \n",
    "        for c_batch in range(n_batches): \n",
    "            batch = df_train_current[train_cols][c_batch*batch_size:(c_batch+1)*batch_size].values\n",
    "            batch_lengths = df_train_current['seq_length'][c_batch*batch_size:(c_batch+1)*batch_size].values\n",
    "\n",
    "            #batch = batch.reshape(len(batch), seq_length, 1)\n",
    "            results = sess.run([optimizer, loss, encoder_final_state, latent_vector_in, latent_vector_out, output_layer], \n",
    "                               {inputs:batch, input_lengths:batch_lengths})\n",
    "            \n",
    "            \n",
    "            if c_batch%300==0:\n",
    "                df_test_current = df_test.sample(n=batch_size)\n",
    "                test_batch = df_test_current[train_cols]\n",
    "                test_batch_lengths = df_test_current['seq_length']\n",
    "                #test_batch = test_batch.values.reshape(df_test_batch.shape[0], seq_length, 1)\n",
    "                results_test = sess.run([loss, output_layer], \n",
    "                               {inputs:test_batch, input_lengths:test_batch_lengths})            \n",
    "             \n",
    "                \n",
    "                print ('epoch:%d, batch:%d, batch loss:%.3g, test loss:%.3g, norm batch loss:%.3g, norm test loss:%.3g' % \n",
    "                       (c_epoch, c_batch, results[1], results_test[0], \n",
    "                        results[1]/batch_size, results_test[0]/batch_size))\n",
    "                \n",
    "                metrics.append([c_epoch, c_batch, results[1], results_test[0]])\n",
    "    \n",
    "        if c_epoch%10==0:\n",
    "            \n",
    "            latent_vectors_train = sess.run(latent_vector_in, \n",
    "                                      {inputs:df_train[train_cols].values#.reshape(df_train.shape[0], seq_length, 1)\n",
    "                                      })\n",
    "            \n",
    "            latent_vectors_test = sess.run(latent_vector_in, \n",
    "                                      {inputs:df_test[train_cols].values#.reshape(df_test.shape[0], seq_length, 1)\n",
    "                                      })\n",
    "            \n",
    "            total_output_test = sess.run(output_layer, \n",
    "                                         {inputs:df_test[train_cols].values#.reshape(df_test.shape[0], seq_length, 1)\n",
    "                                         })"
   ]
  },
  {
   "cell_type": "code",
   "execution_count": 105,
   "metadata": {},
   "outputs": [],
   "source": [
    "metrics = np.array(metrics)"
   ]
  },
  {
   "cell_type": "code",
   "execution_count": 106,
   "metadata": {},
   "outputs": [
    {
     "data": {
      "image/png": "[encoded data removed]",
      "text/plain": [
       "<matplotlib.figure.Figure at 0x183fd38deb8>"
      ]
     },
     "metadata": {},
     "output_type": "display_data"
    }
   ],
   "source": [
    "plt.figure(figsize=(14, 10))\n",
    "plt.semilogy([i for i in range(len(metrics[:,2]))], metrics[:,2], label='training loss')\n",
    "plt.semilogy([i for i in range(len(metrics[:,3]))], metrics[:,3], label='test loss')\n",
    "plt.legend(loc='best')\n",
    "plt.show()"
   ]
  },
  {
   "cell_type": "code",
   "execution_count": 107,
   "metadata": {},
   "outputs": [],
   "source": [
    "df_vectors = pd.DataFrame(latent_vectors_train, columns=['x', 'y'])"
   ]
  },
  {
   "cell_type": "code",
   "execution_count": 108,
   "metadata": {},
   "outputs": [],
   "source": [
    "#Join to training data\n",
    "df_seqs_vectors = df_train.merge(df_vectors, left_index=True, right_index=True)"
   ]
  },
  {
   "cell_type": "code",
   "execution_count": 381,
   "metadata": {},
   "outputs": [],
   "source": [
    "df_seqs_vectors['label_add'] = df_seqs_vectors[seq_cols].apply(lambda x: '_'.join([str(i) for i in x]), axis=1)"
   ]
  },
  {
   "cell_type": "code",
   "execution_count": 382,
   "metadata": {},
   "outputs": [],
   "source": [
    "#df_seqs_vectors['label_add'] = df_seqs_vectors['label'].apply(str) + df_seqs_vectors[0].apply(str)"
   ]
  },
  {
   "cell_type": "code",
   "execution_count": 112,
   "metadata": {},
   "outputs": [
    {
     "data": {
      "text/html": [
       "<div>\n",
       "<style scoped>\n",
       "    .dataframe tbody tr th:only-of-type {\n",
       "        vertical-align: middle;\n",
       "    }\n",
       "\n",
       "    .dataframe tbody tr th {\n",
       "        vertical-align: top;\n",
       "    }\n",
       "\n",
       "    .dataframe thead th {\n",
       "        text-align: right;\n",
       "    }\n",
       "</style>\n",
       "<table border=\"1\" class=\"dataframe\">\n",
       "  <thead>\n",
       "    <tr style=\"text-align: right;\">\n",
       "      <th></th>\n",
       "      <th>0</th>\n",
       "      <th>1</th>\n",
       "      <th>2</th>\n",
       "      <th>3</th>\n",
       "      <th>4</th>\n",
       "      <th>5</th>\n",
       "      <th>6</th>\n",
       "      <th>7</th>\n",
       "      <th>8</th>\n",
       "      <th>9</th>\n",
       "      <th>seq_length</th>\n",
       "      <th>label</th>\n",
       "      <th>cat_0</th>\n",
       "      <th>cat_1</th>\n",
       "      <th>cat_2</th>\n",
       "      <th>cat_3</th>\n",
       "      <th>cat_4</th>\n",
       "      <th>cat_5</th>\n",
       "      <th>cat_6</th>\n",
       "      <th>cat_7</th>\n",
       "      <th>cat_8</th>\n",
       "      <th>cat_9</th>\n",
       "      <th>x</th>\n",
       "      <th>y</th>\n",
       "    </tr>\n",
       "  </thead>\n",
       "  <tbody>\n",
       "    <tr>\n",
       "      <th>0</th>\n",
       "      <td>2.185864</td>\n",
       "      <td>2.185864</td>\n",
       "      <td>2.185864</td>\n",
       "      <td>2.185864</td>\n",
       "      <td>2.185864</td>\n",
       "      <td>2.185864</td>\n",
       "      <td>2.185864</td>\n",
       "      <td>2.185864</td>\n",
       "      <td>0.000000</td>\n",
       "      <td>0.000000</td>\n",
       "      <td>8</td>\n",
       "      <td>True</td>\n",
       "      <td>14</td>\n",
       "      <td>14</td>\n",
       "      <td>14</td>\n",
       "      <td>14</td>\n",
       "      <td>14</td>\n",
       "      <td>14</td>\n",
       "      <td>14</td>\n",
       "      <td>14</td>\n",
       "      <td>0</td>\n",
       "      <td>0</td>\n",
       "      <td>0.365334</td>\n",
       "      <td>0.647239</td>\n",
       "    </tr>\n",
       "    <tr>\n",
       "      <th>1</th>\n",
       "      <td>0.029914</td>\n",
       "      <td>0.081314</td>\n",
       "      <td>0.221035</td>\n",
       "      <td>0.221035</td>\n",
       "      <td>0.081314</td>\n",
       "      <td>0.029914</td>\n",
       "      <td>0.000000</td>\n",
       "      <td>0.000000</td>\n",
       "      <td>0.000000</td>\n",
       "      <td>0.000000</td>\n",
       "      <td>6</td>\n",
       "      <td>False</td>\n",
       "      <td>2</td>\n",
       "      <td>3</td>\n",
       "      <td>6</td>\n",
       "      <td>6</td>\n",
       "      <td>3</td>\n",
       "      <td>2</td>\n",
       "      <td>0</td>\n",
       "      <td>0</td>\n",
       "      <td>0</td>\n",
       "      <td>0</td>\n",
       "      <td>0.000000</td>\n",
       "      <td>0.000000</td>\n",
       "    </tr>\n",
       "    <tr>\n",
       "      <th>2</th>\n",
       "      <td>2.634517</td>\n",
       "      <td>2.634517</td>\n",
       "      <td>2.634517</td>\n",
       "      <td>2.634517</td>\n",
       "      <td>2.634517</td>\n",
       "      <td>2.634517</td>\n",
       "      <td>2.634517</td>\n",
       "      <td>2.634517</td>\n",
       "      <td>2.634517</td>\n",
       "      <td>2.634517</td>\n",
       "      <td>10</td>\n",
       "      <td>True</td>\n",
       "      <td>15</td>\n",
       "      <td>15</td>\n",
       "      <td>15</td>\n",
       "      <td>15</td>\n",
       "      <td>15</td>\n",
       "      <td>15</td>\n",
       "      <td>15</td>\n",
       "      <td>15</td>\n",
       "      <td>15</td>\n",
       "      <td>15</td>\n",
       "      <td>0.432646</td>\n",
       "      <td>0.749604</td>\n",
       "    </tr>\n",
       "    <tr>\n",
       "      <th>3</th>\n",
       "      <td>0.009438</td>\n",
       "      <td>0.025654</td>\n",
       "      <td>0.069735</td>\n",
       "      <td>0.189560</td>\n",
       "      <td>0.515277</td>\n",
       "      <td>0.515277</td>\n",
       "      <td>0.189560</td>\n",
       "      <td>0.069735</td>\n",
       "      <td>0.025654</td>\n",
       "      <td>0.009438</td>\n",
       "      <td>10</td>\n",
       "      <td>False</td>\n",
       "      <td>1</td>\n",
       "      <td>2</td>\n",
       "      <td>3</td>\n",
       "      <td>5</td>\n",
       "      <td>8</td>\n",
       "      <td>8</td>\n",
       "      <td>5</td>\n",
       "      <td>3</td>\n",
       "      <td>2</td>\n",
       "      <td>1</td>\n",
       "      <td>0.000000</td>\n",
       "      <td>0.000000</td>\n",
       "    </tr>\n",
       "    <tr>\n",
       "      <th>4</th>\n",
       "      <td>0.312075</td>\n",
       "      <td>0.848307</td>\n",
       "      <td>2.305938</td>\n",
       "      <td>6.268189</td>\n",
       "      <td>2.305938</td>\n",
       "      <td>0.848307</td>\n",
       "      <td>0.312075</td>\n",
       "      <td>0.000000</td>\n",
       "      <td>0.000000</td>\n",
       "      <td>0.000000</td>\n",
       "      <td>7</td>\n",
       "      <td>False</td>\n",
       "      <td>7</td>\n",
       "      <td>10</td>\n",
       "      <td>15</td>\n",
       "      <td>19</td>\n",
       "      <td>15</td>\n",
       "      <td>10</td>\n",
       "      <td>7</td>\n",
       "      <td>0</td>\n",
       "      <td>0</td>\n",
       "      <td>0</td>\n",
       "      <td>1.381440</td>\n",
       "      <td>0.793432</td>\n",
       "    </tr>\n",
       "  </tbody>\n",
       "</table>\n",
       "</div>"
      ],
      "text/plain": [
       "          0         1         2         3         4         5         6  \\\n",
       "0  2.185864  2.185864  2.185864  2.185864  2.185864  2.185864  2.185864   \n",
       "1  0.029914  0.081314  0.221035  0.221035  0.081314  0.029914  0.000000   \n",
       "2  2.634517  2.634517  2.634517  2.634517  2.634517  2.634517  2.634517   \n",
       "3  0.009438  0.025654  0.069735  0.189560  0.515277  0.515277  0.189560   \n",
       "4  0.312075  0.848307  2.305938  6.268189  2.305938  0.848307  0.312075   \n",
       "\n",
       "          7         8         9  seq_length  label  cat_0  cat_1  cat_2  \\\n",
       "0  2.185864  0.000000  0.000000           8   True     14     14     14   \n",
       "1  0.000000  0.000000  0.000000           6  False      2      3      6   \n",
       "2  2.634517  2.634517  2.634517          10   True     15     15     15   \n",
       "3  0.069735  0.025654  0.009438          10  False      1      2      3   \n",
       "4  0.000000  0.000000  0.000000           7  False      7     10     15   \n",
       "\n",
       "   cat_3  cat_4  cat_5  cat_6  cat_7  cat_8  cat_9         x         y  \n",
       "0     14     14     14     14     14      0      0  0.365334  0.647239  \n",
       "1      6      3      2      0      0      0      0  0.000000  0.000000  \n",
       "2     15     15     15     15     15     15     15  0.432646  0.749604  \n",
       "3      5      8      8      5      3      2      1  0.000000  0.000000  \n",
       "4     19     15     10      7      0      0      0  1.381440  0.793432  "
      ]
     },
     "execution_count": 112,
     "metadata": {},
     "output_type": "execute_result"
    }
   ],
   "source": [
    "df_seqs_vectors.head()"
   ]
  },
  {
   "cell_type": "code",
   "execution_count": 113,
   "metadata": {},
   "outputs": [],
   "source": [
    "label_col = 'label'"
   ]
  },
  {
   "cell_type": "code",
   "execution_count": 114,
   "metadata": {},
   "outputs": [],
   "source": [
    "unique_seqs = df_seqs_vectors[label_col].unique()"
   ]
  },
  {
   "cell_type": "code",
   "execution_count": 115,
   "metadata": {},
   "outputs": [
    {
     "data": {
      "text/plain": [
       "2"
      ]
     },
     "execution_count": 115,
     "metadata": {},
     "output_type": "execute_result"
    }
   ],
   "source": [
    "len(unique_seqs)"
   ]
  },
  {
   "cell_type": "code",
   "execution_count": 116,
   "metadata": {},
   "outputs": [
    {
     "data": {
      "image/png": "[encoded data removed]",
      "text/plain": [
       "<matplotlib.figure.Figure at 0x183fd3ab6d8>"
      ]
     },
     "metadata": {},
     "output_type": "display_data"
    }
   ],
   "source": [
    "#Analysis\n",
    "\n",
    "plt.figure(1, figsize=(10, 10))\n",
    "cmap = plt.cm.get_cmap('hsv', len(unique_seqs)+1)\n",
    "for idx_seq, seq in enumerate(unique_seqs):\n",
    "    df_current = df_seqs_vectors[df_seqs_vectors[label_col]==seq]\n",
    "    plt.scatter(df_current['x'].values, df_current['y'].values, color=cmap(idx_seq), label=seq)\n",
    "\n",
    "plt.legend(loc='best')\n",
    "plt.show()"
   ]
  },
  {
   "cell_type": "code",
   "execution_count": null,
   "metadata": {},
   "outputs": [],
   "source": []
  }
 ],
 "metadata": {
  "kernelspec": {
   "display_name": "Python 3",
   "language": "python",
   "name": "python3"
  },
  "language_info": {
   "codemirror_mode": {
    "name": "ipython",
    "version": 3
   },
   "file_extension": ".py",
   "mimetype": "text/x-python",
   "name": "python",
   "nbconvert_exporter": "python",
   "pygments_lexer": "ipython3",
   "version": "3.5.4"
  }
 },
 "nbformat": 4,
 "nbformat_minor": 2
}
